{
 "cells": [
  {
   "cell_type": "code",
   "execution_count": 1,
   "metadata": {
    "ExecuteTime": {
     "end_time": "2019-11-27T22:21:16.167412Z",
     "start_time": "2019-11-27T22:21:15.651860Z"
    }
   },
   "outputs": [],
   "source": [
    "# import jtplot submodule from jupyterthemes\n",
    "from jupyterthemes import jtplot\n",
    "\n",
    "# currently installed theme will be used to\n",
    "# set plot style if no arguments provided\n",
    "jtplot.style()\n",
    "\n",
    "%load_ext autoreload\n",
    "%autoreload 2\n",
    "\n",
    "%matplotlib inline"
   ]
  },
  {
   "cell_type": "code",
   "execution_count": 2,
   "metadata": {
    "ExecuteTime": {
     "end_time": "2019-11-27T22:21:17.317536Z",
     "start_time": "2019-11-27T22:21:16.168681Z"
    }
   },
   "outputs": [],
   "source": [
    "import matplotlib as mpl\n",
    "import matplotlib.pyplot as plt\n",
    "import numpy as np\n",
    "import pandas as pd\n",
    "from sklearn import model_selection\n",
    "\n",
    "import tensorflow as tf\n",
    "from tensorflow.keras import Input, Model\n",
    "from tensorflow.keras.callbacks import LearningRateScheduler\n",
    "from tensorflow.keras.layers import Conv2D, BatchNormalization, Dense, Dropout, Flatten \n",
    "from tensorflow.keras.preprocessing.image import ImageDataGenerator\n",
    "\n",
    "gpus = tf.config.experimental.list_physical_devices('GPU')\n",
    "if gpus:\n",
    "  # Currently, memory growth needs to be the same across GPUs\n",
    "  try:\n",
    "    for gpu in gpus:\n",
    "      tf.config.experimental.set_memory_growth(gpu, True)\n",
    "  except RuntimeError as e:\n",
    "    print(e)"
   ]
  },
  {
   "cell_type": "markdown",
   "metadata": {},
   "source": [
    "# Load Data"
   ]
  },
  {
   "cell_type": "code",
   "execution_count": 3,
   "metadata": {
    "ExecuteTime": {
     "end_time": "2019-11-27T22:21:20.215047Z",
     "start_time": "2019-11-27T22:21:17.319030Z"
    }
   },
   "outputs": [],
   "source": [
    "train_data = pd.read_csv('./train.csv')\n",
    "test_data = pd.read_csv('./test.csv')"
   ]
  },
  {
   "cell_type": "code",
   "execution_count": 4,
   "metadata": {
    "ExecuteTime": {
     "end_time": "2019-11-27T22:21:20.251057Z",
     "start_time": "2019-11-27T22:21:20.216847Z"
    }
   },
   "outputs": [
    {
     "data": {
      "text/html": [
       "<div>\n",
       "<style scoped>\n",
       "    .dataframe tbody tr th:only-of-type {\n",
       "        vertical-align: middle;\n",
       "    }\n",
       "\n",
       "    .dataframe tbody tr th {\n",
       "        vertical-align: top;\n",
       "    }\n",
       "\n",
       "    .dataframe thead th {\n",
       "        text-align: right;\n",
       "    }\n",
       "</style>\n",
       "<table border=\"1\" class=\"dataframe\">\n",
       "  <thead>\n",
       "    <tr style=\"text-align: right;\">\n",
       "      <th></th>\n",
       "      <th>label</th>\n",
       "      <th>pixel0</th>\n",
       "      <th>pixel1</th>\n",
       "      <th>pixel2</th>\n",
       "      <th>pixel3</th>\n",
       "      <th>pixel4</th>\n",
       "      <th>pixel5</th>\n",
       "      <th>pixel6</th>\n",
       "      <th>pixel7</th>\n",
       "      <th>pixel8</th>\n",
       "      <th>...</th>\n",
       "      <th>pixel774</th>\n",
       "      <th>pixel775</th>\n",
       "      <th>pixel776</th>\n",
       "      <th>pixel777</th>\n",
       "      <th>pixel778</th>\n",
       "      <th>pixel779</th>\n",
       "      <th>pixel780</th>\n",
       "      <th>pixel781</th>\n",
       "      <th>pixel782</th>\n",
       "      <th>pixel783</th>\n",
       "    </tr>\n",
       "  </thead>\n",
       "  <tbody>\n",
       "    <tr>\n",
       "      <td>0</td>\n",
       "      <td>1</td>\n",
       "      <td>0</td>\n",
       "      <td>0</td>\n",
       "      <td>0</td>\n",
       "      <td>0</td>\n",
       "      <td>0</td>\n",
       "      <td>0</td>\n",
       "      <td>0</td>\n",
       "      <td>0</td>\n",
       "      <td>0</td>\n",
       "      <td>...</td>\n",
       "      <td>0</td>\n",
       "      <td>0</td>\n",
       "      <td>0</td>\n",
       "      <td>0</td>\n",
       "      <td>0</td>\n",
       "      <td>0</td>\n",
       "      <td>0</td>\n",
       "      <td>0</td>\n",
       "      <td>0</td>\n",
       "      <td>0</td>\n",
       "    </tr>\n",
       "    <tr>\n",
       "      <td>1</td>\n",
       "      <td>0</td>\n",
       "      <td>0</td>\n",
       "      <td>0</td>\n",
       "      <td>0</td>\n",
       "      <td>0</td>\n",
       "      <td>0</td>\n",
       "      <td>0</td>\n",
       "      <td>0</td>\n",
       "      <td>0</td>\n",
       "      <td>0</td>\n",
       "      <td>...</td>\n",
       "      <td>0</td>\n",
       "      <td>0</td>\n",
       "      <td>0</td>\n",
       "      <td>0</td>\n",
       "      <td>0</td>\n",
       "      <td>0</td>\n",
       "      <td>0</td>\n",
       "      <td>0</td>\n",
       "      <td>0</td>\n",
       "      <td>0</td>\n",
       "    </tr>\n",
       "    <tr>\n",
       "      <td>2</td>\n",
       "      <td>1</td>\n",
       "      <td>0</td>\n",
       "      <td>0</td>\n",
       "      <td>0</td>\n",
       "      <td>0</td>\n",
       "      <td>0</td>\n",
       "      <td>0</td>\n",
       "      <td>0</td>\n",
       "      <td>0</td>\n",
       "      <td>0</td>\n",
       "      <td>...</td>\n",
       "      <td>0</td>\n",
       "      <td>0</td>\n",
       "      <td>0</td>\n",
       "      <td>0</td>\n",
       "      <td>0</td>\n",
       "      <td>0</td>\n",
       "      <td>0</td>\n",
       "      <td>0</td>\n",
       "      <td>0</td>\n",
       "      <td>0</td>\n",
       "    </tr>\n",
       "    <tr>\n",
       "      <td>3</td>\n",
       "      <td>4</td>\n",
       "      <td>0</td>\n",
       "      <td>0</td>\n",
       "      <td>0</td>\n",
       "      <td>0</td>\n",
       "      <td>0</td>\n",
       "      <td>0</td>\n",
       "      <td>0</td>\n",
       "      <td>0</td>\n",
       "      <td>0</td>\n",
       "      <td>...</td>\n",
       "      <td>0</td>\n",
       "      <td>0</td>\n",
       "      <td>0</td>\n",
       "      <td>0</td>\n",
       "      <td>0</td>\n",
       "      <td>0</td>\n",
       "      <td>0</td>\n",
       "      <td>0</td>\n",
       "      <td>0</td>\n",
       "      <td>0</td>\n",
       "    </tr>\n",
       "    <tr>\n",
       "      <td>4</td>\n",
       "      <td>0</td>\n",
       "      <td>0</td>\n",
       "      <td>0</td>\n",
       "      <td>0</td>\n",
       "      <td>0</td>\n",
       "      <td>0</td>\n",
       "      <td>0</td>\n",
       "      <td>0</td>\n",
       "      <td>0</td>\n",
       "      <td>0</td>\n",
       "      <td>...</td>\n",
       "      <td>0</td>\n",
       "      <td>0</td>\n",
       "      <td>0</td>\n",
       "      <td>0</td>\n",
       "      <td>0</td>\n",
       "      <td>0</td>\n",
       "      <td>0</td>\n",
       "      <td>0</td>\n",
       "      <td>0</td>\n",
       "      <td>0</td>\n",
       "    </tr>\n",
       "  </tbody>\n",
       "</table>\n",
       "<p>5 rows × 785 columns</p>\n",
       "</div>"
      ],
      "text/plain": [
       "   label  pixel0  pixel1  pixel2  pixel3  pixel4  pixel5  pixel6  pixel7  \\\n",
       "0      1       0       0       0       0       0       0       0       0   \n",
       "1      0       0       0       0       0       0       0       0       0   \n",
       "2      1       0       0       0       0       0       0       0       0   \n",
       "3      4       0       0       0       0       0       0       0       0   \n",
       "4      0       0       0       0       0       0       0       0       0   \n",
       "\n",
       "   pixel8  ...  pixel774  pixel775  pixel776  pixel777  pixel778  pixel779  \\\n",
       "0       0  ...         0         0         0         0         0         0   \n",
       "1       0  ...         0         0         0         0         0         0   \n",
       "2       0  ...         0         0         0         0         0         0   \n",
       "3       0  ...         0         0         0         0         0         0   \n",
       "4       0  ...         0         0         0         0         0         0   \n",
       "\n",
       "   pixel780  pixel781  pixel782  pixel783  \n",
       "0         0         0         0         0  \n",
       "1         0         0         0         0  \n",
       "2         0         0         0         0  \n",
       "3         0         0         0         0  \n",
       "4         0         0         0         0  \n",
       "\n",
       "[5 rows x 785 columns]"
      ]
     },
     "execution_count": 4,
     "metadata": {},
     "output_type": "execute_result"
    }
   ],
   "source": [
    "train_data.head()"
   ]
  },
  {
   "cell_type": "code",
   "execution_count": 5,
   "metadata": {
    "ExecuteTime": {
     "end_time": "2019-11-27T22:21:20.324991Z",
     "start_time": "2019-11-27T22:21:20.252153Z"
    }
   },
   "outputs": [
    {
     "data": {
      "text/html": [
       "<div>\n",
       "<style scoped>\n",
       "    .dataframe tbody tr th:only-of-type {\n",
       "        vertical-align: middle;\n",
       "    }\n",
       "\n",
       "    .dataframe tbody tr th {\n",
       "        vertical-align: top;\n",
       "    }\n",
       "\n",
       "    .dataframe thead th {\n",
       "        text-align: right;\n",
       "    }\n",
       "</style>\n",
       "<table border=\"1\" class=\"dataframe\">\n",
       "  <thead>\n",
       "    <tr style=\"text-align: right;\">\n",
       "      <th></th>\n",
       "      <th>pixel0</th>\n",
       "      <th>pixel1</th>\n",
       "      <th>pixel2</th>\n",
       "      <th>pixel3</th>\n",
       "      <th>pixel4</th>\n",
       "      <th>pixel5</th>\n",
       "      <th>pixel6</th>\n",
       "      <th>pixel7</th>\n",
       "      <th>pixel8</th>\n",
       "      <th>pixel9</th>\n",
       "      <th>...</th>\n",
       "      <th>pixel774</th>\n",
       "      <th>pixel775</th>\n",
       "      <th>pixel776</th>\n",
       "      <th>pixel777</th>\n",
       "      <th>pixel778</th>\n",
       "      <th>pixel779</th>\n",
       "      <th>pixel780</th>\n",
       "      <th>pixel781</th>\n",
       "      <th>pixel782</th>\n",
       "      <th>pixel783</th>\n",
       "    </tr>\n",
       "  </thead>\n",
       "  <tbody>\n",
       "    <tr>\n",
       "      <td>0</td>\n",
       "      <td>0</td>\n",
       "      <td>0</td>\n",
       "      <td>0</td>\n",
       "      <td>0</td>\n",
       "      <td>0</td>\n",
       "      <td>0</td>\n",
       "      <td>0</td>\n",
       "      <td>0</td>\n",
       "      <td>0</td>\n",
       "      <td>0</td>\n",
       "      <td>...</td>\n",
       "      <td>0</td>\n",
       "      <td>0</td>\n",
       "      <td>0</td>\n",
       "      <td>0</td>\n",
       "      <td>0</td>\n",
       "      <td>0</td>\n",
       "      <td>0</td>\n",
       "      <td>0</td>\n",
       "      <td>0</td>\n",
       "      <td>0</td>\n",
       "    </tr>\n",
       "    <tr>\n",
       "      <td>1</td>\n",
       "      <td>0</td>\n",
       "      <td>0</td>\n",
       "      <td>0</td>\n",
       "      <td>0</td>\n",
       "      <td>0</td>\n",
       "      <td>0</td>\n",
       "      <td>0</td>\n",
       "      <td>0</td>\n",
       "      <td>0</td>\n",
       "      <td>0</td>\n",
       "      <td>...</td>\n",
       "      <td>0</td>\n",
       "      <td>0</td>\n",
       "      <td>0</td>\n",
       "      <td>0</td>\n",
       "      <td>0</td>\n",
       "      <td>0</td>\n",
       "      <td>0</td>\n",
       "      <td>0</td>\n",
       "      <td>0</td>\n",
       "      <td>0</td>\n",
       "    </tr>\n",
       "    <tr>\n",
       "      <td>2</td>\n",
       "      <td>0</td>\n",
       "      <td>0</td>\n",
       "      <td>0</td>\n",
       "      <td>0</td>\n",
       "      <td>0</td>\n",
       "      <td>0</td>\n",
       "      <td>0</td>\n",
       "      <td>0</td>\n",
       "      <td>0</td>\n",
       "      <td>0</td>\n",
       "      <td>...</td>\n",
       "      <td>0</td>\n",
       "      <td>0</td>\n",
       "      <td>0</td>\n",
       "      <td>0</td>\n",
       "      <td>0</td>\n",
       "      <td>0</td>\n",
       "      <td>0</td>\n",
       "      <td>0</td>\n",
       "      <td>0</td>\n",
       "      <td>0</td>\n",
       "    </tr>\n",
       "    <tr>\n",
       "      <td>3</td>\n",
       "      <td>0</td>\n",
       "      <td>0</td>\n",
       "      <td>0</td>\n",
       "      <td>0</td>\n",
       "      <td>0</td>\n",
       "      <td>0</td>\n",
       "      <td>0</td>\n",
       "      <td>0</td>\n",
       "      <td>0</td>\n",
       "      <td>0</td>\n",
       "      <td>...</td>\n",
       "      <td>0</td>\n",
       "      <td>0</td>\n",
       "      <td>0</td>\n",
       "      <td>0</td>\n",
       "      <td>0</td>\n",
       "      <td>0</td>\n",
       "      <td>0</td>\n",
       "      <td>0</td>\n",
       "      <td>0</td>\n",
       "      <td>0</td>\n",
       "    </tr>\n",
       "    <tr>\n",
       "      <td>4</td>\n",
       "      <td>0</td>\n",
       "      <td>0</td>\n",
       "      <td>0</td>\n",
       "      <td>0</td>\n",
       "      <td>0</td>\n",
       "      <td>0</td>\n",
       "      <td>0</td>\n",
       "      <td>0</td>\n",
       "      <td>0</td>\n",
       "      <td>0</td>\n",
       "      <td>...</td>\n",
       "      <td>0</td>\n",
       "      <td>0</td>\n",
       "      <td>0</td>\n",
       "      <td>0</td>\n",
       "      <td>0</td>\n",
       "      <td>0</td>\n",
       "      <td>0</td>\n",
       "      <td>0</td>\n",
       "      <td>0</td>\n",
       "      <td>0</td>\n",
       "    </tr>\n",
       "  </tbody>\n",
       "</table>\n",
       "<p>5 rows × 784 columns</p>\n",
       "</div>"
      ],
      "text/plain": [
       "   pixel0  pixel1  pixel2  pixel3  pixel4  pixel5  pixel6  pixel7  pixel8  \\\n",
       "0       0       0       0       0       0       0       0       0       0   \n",
       "1       0       0       0       0       0       0       0       0       0   \n",
       "2       0       0       0       0       0       0       0       0       0   \n",
       "3       0       0       0       0       0       0       0       0       0   \n",
       "4       0       0       0       0       0       0       0       0       0   \n",
       "\n",
       "   pixel9  ...  pixel774  pixel775  pixel776  pixel777  pixel778  pixel779  \\\n",
       "0       0  ...         0         0         0         0         0         0   \n",
       "1       0  ...         0         0         0         0         0         0   \n",
       "2       0  ...         0         0         0         0         0         0   \n",
       "3       0  ...         0         0         0         0         0         0   \n",
       "4       0  ...         0         0         0         0         0         0   \n",
       "\n",
       "   pixel780  pixel781  pixel782  pixel783  \n",
       "0         0         0         0         0  \n",
       "1         0         0         0         0  \n",
       "2         0         0         0         0  \n",
       "3         0         0         0         0  \n",
       "4         0         0         0         0  \n",
       "\n",
       "[5 rows x 784 columns]"
      ]
     },
     "execution_count": 5,
     "metadata": {},
     "output_type": "execute_result"
    }
   ],
   "source": [
    "test_data.head()"
   ]
  },
  {
   "cell_type": "markdown",
   "metadata": {},
   "source": [
    "Split the training data into responses and predictors."
   ]
  },
  {
   "cell_type": "code",
   "execution_count": 6,
   "metadata": {
    "ExecuteTime": {
     "end_time": "2019-11-27T22:21:20.508902Z",
     "start_time": "2019-11-27T22:21:20.326096Z"
    }
   },
   "outputs": [],
   "source": [
    "train_y = np.array(train_data.iloc[:, 0], dtype='uint8')\n",
    "train_x = train_data.drop(axis=1, labels='label')"
   ]
  },
  {
   "cell_type": "markdown",
   "metadata": {},
   "source": [
    "Regularize the pixel values."
   ]
  },
  {
   "cell_type": "code",
   "execution_count": 7,
   "metadata": {
    "ExecuteTime": {
     "end_time": "2019-11-27T22:21:21.317386Z",
     "start_time": "2019-11-27T22:21:20.510108Z"
    }
   },
   "outputs": [],
   "source": [
    "train_x  = train_x / 255\n",
    "test_x = test_data / 255"
   ]
  },
  {
   "cell_type": "markdown",
   "metadata": {},
   "source": [
    "Reshape the predictors into 28x28 arrays to feed into the model. Since there is only one monochrome channel, the shape will be 28x28x1."
   ]
  },
  {
   "cell_type": "code",
   "execution_count": 8,
   "metadata": {
    "ExecuteTime": {
     "end_time": "2019-11-27T22:21:21.342369Z",
     "start_time": "2019-11-27T22:21:21.319193Z"
    }
   },
   "outputs": [],
   "source": [
    "train_x = train_x.values.reshape(-1, 28, 28, 1)\n",
    "test_x = test_x.values.reshape(-1, 28, 28, 1)"
   ]
  },
  {
   "cell_type": "markdown",
   "metadata": {},
   "source": [
    "Plot one of the inputs to see how it looks:"
   ]
  },
  {
   "cell_type": "code",
   "execution_count": 9,
   "metadata": {
    "ExecuteTime": {
     "end_time": "2019-11-27T22:21:21.523437Z",
     "start_time": "2019-11-27T22:21:21.343843Z"
    }
   },
   "outputs": [
    {
     "data": {
      "text/plain": [
       "<matplotlib.image.AxesImage at 0x7f7c01dc7e90>"
      ]
     },
     "execution_count": 9,
     "metadata": {},
     "output_type": "execute_result"
    },
    {
     "data": {
      "image/png": "[encoded data removed]",
      "text/plain": [
       "<Figure size 432x288 with 1 Axes>"
      ]
     },
     "metadata": {
      "needs_background": "dark"
     },
     "output_type": "display_data"
    }
   ],
   "source": [
    "plt.imshow(train_x[10].squeeze())"
   ]
  },
  {
   "cell_type": "markdown",
   "metadata": {},
   "source": [
    "The data can be augmented at runtime using the Keras ImageDataGenerator: https://www.tensorflow.org/api_docs/python/tf/keras/preprocessing/image/ImageDataGenerator"
   ]
  },
  {
   "cell_type": "code",
   "execution_count": 10,
   "metadata": {
    "ExecuteTime": {
     "end_time": "2019-11-27T22:21:21.548326Z",
     "start_time": "2019-11-27T22:21:21.524547Z"
    }
   },
   "outputs": [],
   "source": [
    "datagen = ImageDataGenerator(\n",
    "    rotation_range = 15,\n",
    "    width_shift_range = 0.15,\n",
    "    height_shift_range = 0.15,\n",
    "    zoom_range=0.15)"
   ]
  },
  {
   "cell_type": "markdown",
   "metadata": {},
   "source": [
    "# Model"
   ]
  },
  {
   "cell_type": "markdown",
   "metadata": {
    "ExecuteTime": {
     "end_time": "2019-11-27T02:47:30.356906Z",
     "start_time": "2019-11-27T02:47:30.348374Z"
    }
   },
   "source": [
    "Build up a model using the TF Keras functional API."
   ]
  },
  {
   "cell_type": "code",
   "execution_count": 11,
   "metadata": {
    "ExecuteTime": {
     "end_time": "2019-11-27T22:21:21.614897Z",
     "start_time": "2019-11-27T22:21:21.549416Z"
    }
   },
   "outputs": [],
   "source": [
    "def create_model(checkpoint=None):\n",
    "    inputs = Input(shape=(28, 28, 1))\n",
    "\n",
    "    x = Conv2D(32, kernel_size=3, activation='relu')(inputs)\n",
    "    x = BatchNormalization()(x)\n",
    "    x = Conv2D(32, kernel_size=3, activation='relu')(inputs)\n",
    "    x = BatchNormalization()(x)\n",
    "    x = Conv2D(32, kernel_size=5, strides=2, padding='same', activation='relu')(x)\n",
    "    x = BatchNormalization()(x)\n",
    "    x = Dropout(0.4)(x)\n",
    "\n",
    "    x = Conv2D(64, kernel_size=3, activation='relu')(x)\n",
    "    x = BatchNormalization()(x)\n",
    "    x = Conv2D(64, kernel_size=3, activation='relu')(x)\n",
    "    x = BatchNormalization()(x)\n",
    "    x = Conv2D(64, kernel_size=5, strides=2, padding='same', activation='relu')(x)\n",
    "    x = BatchNormalization()(x)\n",
    "    x = Dropout(0.4)(x)\n",
    "\n",
    "    x = Conv2D(128, kernel_size=3, activation='relu')(x)\n",
    "    x = BatchNormalization()(x)\n",
    "    x = Conv2D(128, kernel_size=5, strides=2, padding='same', activation='relu')(x)\n",
    "    x = BatchNormalization()(x)\n",
    "    x = Dropout(0.4)(x)\n",
    "\n",
    "    x = Conv2D(256, kernel_size=2, activation='relu', )(x)\n",
    "    x = BatchNormalization()(x)\n",
    "    x = Dropout(0.4)(x)\n",
    "\n",
    "    x = Flatten()(x)\n",
    "    x = Dropout(0.4)(x)\n",
    "    x = Dense(256, activation='relu')(x)\n",
    "    x = Dense(10, activation='softmax')(x)\n",
    "\n",
    "    model = Model(inputs=inputs, outputs=x)\n",
    "    model.compile(optimizer=tf.keras.optimizers.Adam(),\n",
    "                  loss=tf.keras.losses.SparseCategoricalCrossentropy(),\n",
    "                  metrics=['accuracy'])\n",
    "\n",
    "    if checkpoint is not None:\n",
    "        model.load_weights(checkpoint)\n",
    "    \n",
    "    return model"
   ]
  },
  {
   "cell_type": "code",
   "execution_count": 12,
   "metadata": {
    "ExecuteTime": {
     "end_time": "2019-11-27T22:21:22.568691Z",
     "start_time": "2019-11-27T22:21:21.619584Z"
    }
   },
   "outputs": [],
   "source": [
    "model = create_model()"
   ]
  },
  {
   "cell_type": "markdown",
   "metadata": {},
   "source": [
    "Learning rate annealing should help it converge faster."
   ]
  },
  {
   "cell_type": "code",
   "execution_count": 13,
   "metadata": {
    "ExecuteTime": {
     "end_time": "2019-11-27T22:21:22.592426Z",
     "start_time": "2019-11-27T22:21:22.569864Z"
    }
   },
   "outputs": [],
   "source": [
    "def scheduler(epoch, lr):\n",
    "    return 1e-3 * 0.9 ** epoch\n",
    "\n",
    "lr_sched = LearningRateScheduler(scheduler)"
   ]
  },
  {
   "cell_type": "markdown",
   "metadata": {},
   "source": [
    "# Train"
   ]
  },
  {
   "cell_type": "markdown",
   "metadata": {},
   "source": [
    "The training predictors and responses should be split into a training and validation set."
   ]
  },
  {
   "cell_type": "code",
   "execution_count": 14,
   "metadata": {
    "ExecuteTime": {
     "end_time": "2019-11-27T22:21:22.998889Z",
     "start_time": "2019-11-27T22:21:22.593515Z"
    }
   },
   "outputs": [],
   "source": [
    "train_x_split, val_x_split, train_y_split, val_y_split = model_selection.train_test_split(train_x, train_y, test_size = 0.1)"
   ]
  },
  {
   "cell_type": "code",
   "execution_count": 15,
   "metadata": {
    "ExecuteTime": {
     "end_time": "2019-11-27T22:46:09.363629Z",
     "start_time": "2019-11-27T22:21:23.000122Z"
    }
   },
   "outputs": [
    {
     "name": "stdout",
     "output_type": "stream",
     "text": [
      "Epoch 1/45\n",
      "590/590 [==============================] - 35s 59ms/step - loss: 0.8909 - accuracy: 0.7127 - val_loss: 0.1191 - val_accuracy: 0.9657\n",
      "Epoch 2/45\n",
      "590/590 [==============================] - 33s 56ms/step - loss: 0.2691 - accuracy: 0.9201 - val_loss: 0.0985 - val_accuracy: 0.9738\n",
      "Epoch 3/45\n",
      "590/590 [==============================] - 33s 56ms/step - loss: 0.1787 - accuracy: 0.9479 - val_loss: 0.0453 - val_accuracy: 0.9864\n",
      "Epoch 4/45\n",
      "590/590 [==============================] - 33s 56ms/step - loss: 0.1389 - accuracy: 0.9606 - val_loss: 0.0454 - val_accuracy: 0.9881\n",
      "Epoch 5/45\n",
      "590/590 [==============================] - 33s 56ms/step - loss: 0.1169 - accuracy: 0.9660 - val_loss: 0.0405 - val_accuracy: 0.9886\n",
      "Epoch 6/45\n",
      "590/590 [==============================] - 33s 56ms/step - loss: 0.1080 - accuracy: 0.9703 - val_loss: 0.0450 - val_accuracy: 0.9864\n",
      "Epoch 7/45\n",
      "590/590 [==============================] - 33s 56ms/step - loss: 0.0983 - accuracy: 0.9718 - val_loss: 0.0321 - val_accuracy: 0.9900\n",
      "Epoch 8/45\n",
      "590/590 [==============================] - 33s 56ms/step - loss: 0.0897 - accuracy: 0.9745 - val_loss: 0.0399 - val_accuracy: 0.9886\n",
      "Epoch 9/45\n",
      "590/590 [==============================] - 33s 56ms/step - loss: 0.0776 - accuracy: 0.9784 - val_loss: 0.0258 - val_accuracy: 0.9921\n",
      "Epoch 10/45\n",
      "590/590 [==============================] - 33s 56ms/step - loss: 0.0699 - accuracy: 0.9805 - val_loss: 0.0224 - val_accuracy: 0.9933\n",
      "Epoch 11/45\n",
      "590/590 [==============================] - 33s 56ms/step - loss: 0.0636 - accuracy: 0.9821 - val_loss: 0.0241 - val_accuracy: 0.9936\n",
      "Epoch 12/45\n",
      "590/590 [==============================] - 33s 56ms/step - loss: 0.0626 - accuracy: 0.9823 - val_loss: 0.0254 - val_accuracy: 0.9914\n",
      "Epoch 13/45\n",
      "590/590 [==============================] - 33s 56ms/step - loss: 0.0619 - accuracy: 0.9822 - val_loss: 0.0183 - val_accuracy: 0.9948\n",
      "Epoch 14/45\n",
      "590/590 [==============================] - 33s 55ms/step - loss: 0.0573 - accuracy: 0.9839 - val_loss: 0.0189 - val_accuracy: 0.9940\n",
      "Epoch 15/45\n",
      "590/590 [==============================] - 33s 56ms/step - loss: 0.0530 - accuracy: 0.9847 - val_loss: 0.0196 - val_accuracy: 0.9936\n",
      "Epoch 16/45\n",
      "590/590 [==============================] - 33s 56ms/step - loss: 0.0518 - accuracy: 0.9851 - val_loss: 0.0196 - val_accuracy: 0.9948\n",
      "Epoch 17/45\n",
      "590/590 [==============================] - 33s 56ms/step - loss: 0.0481 - accuracy: 0.9864 - val_loss: 0.0162 - val_accuracy: 0.9962\n",
      "Epoch 18/45\n",
      "590/590 [==============================] - 33s 57ms/step - loss: 0.0466 - accuracy: 0.9873 - val_loss: 0.0176 - val_accuracy: 0.9952\n",
      "Epoch 19/45\n",
      "590/590 [==============================] - 33s 55ms/step - loss: 0.0411 - accuracy: 0.9887 - val_loss: 0.0138 - val_accuracy: 0.9955\n",
      "Epoch 20/45\n",
      "590/590 [==============================] - 33s 56ms/step - loss: 0.0416 - accuracy: 0.9881 - val_loss: 0.0132 - val_accuracy: 0.9960\n",
      "Epoch 21/45\n",
      "590/590 [==============================] - 33s 56ms/step - loss: 0.0412 - accuracy: 0.9886 - val_loss: 0.0136 - val_accuracy: 0.9960\n",
      "Epoch 22/45\n",
      "590/590 [==============================] - 33s 56ms/step - loss: 0.0361 - accuracy: 0.9897 - val_loss: 0.0139 - val_accuracy: 0.9957\n",
      "Epoch 23/45\n",
      "590/590 [==============================] - 33s 56ms/step - loss: 0.0384 - accuracy: 0.9896 - val_loss: 0.0152 - val_accuracy: 0.9964\n",
      "Epoch 24/45\n",
      "590/590 [==============================] - 33s 56ms/step - loss: 0.0354 - accuracy: 0.9898 - val_loss: 0.0126 - val_accuracy: 0.9964\n",
      "Epoch 25/45\n",
      "590/590 [==============================] - 33s 56ms/step - loss: 0.0342 - accuracy: 0.9904 - val_loss: 0.0126 - val_accuracy: 0.9962\n",
      "Epoch 26/45\n",
      "590/590 [==============================] - 33s 56ms/step - loss: 0.0335 - accuracy: 0.9902 - val_loss: 0.0115 - val_accuracy: 0.9960\n",
      "Epoch 27/45\n",
      "590/590 [==============================] - 33s 56ms/step - loss: 0.0319 - accuracy: 0.9908 - val_loss: 0.0139 - val_accuracy: 0.9960\n",
      "Epoch 28/45\n",
      "590/590 [==============================] - 33s 56ms/step - loss: 0.0340 - accuracy: 0.9904 - val_loss: 0.0122 - val_accuracy: 0.9967\n",
      "Epoch 29/45\n",
      "590/590 [==============================] - 33s 56ms/step - loss: 0.0307 - accuracy: 0.9908 - val_loss: 0.0126 - val_accuracy: 0.9960\n",
      "Epoch 30/45\n",
      "590/590 [==============================] - 33s 56ms/step - loss: 0.0292 - accuracy: 0.9915 - val_loss: 0.0128 - val_accuracy: 0.9962\n",
      "Epoch 31/45\n",
      "590/590 [==============================] - 33s 56ms/step - loss: 0.0317 - accuracy: 0.9910 - val_loss: 0.0107 - val_accuracy: 0.9971\n",
      "Epoch 32/45\n",
      "590/590 [==============================] - 33s 56ms/step - loss: 0.0287 - accuracy: 0.9914 - val_loss: 0.0111 - val_accuracy: 0.9969\n",
      "Epoch 33/45\n",
      "590/590 [==============================] - 33s 56ms/step - loss: 0.0294 - accuracy: 0.9918 - val_loss: 0.0114 - val_accuracy: 0.9967\n",
      "Epoch 34/45\n",
      "590/590 [==============================] - 33s 56ms/step - loss: 0.0294 - accuracy: 0.9918 - val_loss: 0.0118 - val_accuracy: 0.9962\n",
      "Epoch 35/45\n",
      "590/590 [==============================] - 33s 56ms/step - loss: 0.0284 - accuracy: 0.9922 - val_loss: 0.0118 - val_accuracy: 0.9964\n",
      "Epoch 36/45\n",
      "590/590 [==============================] - 33s 56ms/step - loss: 0.0291 - accuracy: 0.9917 - val_loss: 0.0111 - val_accuracy: 0.9962\n",
      "Epoch 37/45\n",
      "590/590 [==============================] - 33s 56ms/step - loss: 0.0297 - accuracy: 0.9919 - val_loss: 0.0116 - val_accuracy: 0.9967\n",
      "Epoch 38/45\n",
      "590/590 [==============================] - 33s 56ms/step - loss: 0.0278 - accuracy: 0.9922 - val_loss: 0.0119 - val_accuracy: 0.9967\n",
      "Epoch 39/45\n",
      "590/590 [==============================] - 33s 56ms/step - loss: 0.0275 - accuracy: 0.9923 - val_loss: 0.0117 - val_accuracy: 0.9964\n",
      "Epoch 40/45\n",
      "590/590 [==============================] - 33s 56ms/step - loss: 0.0258 - accuracy: 0.9921 - val_loss: 0.0113 - val_accuracy: 0.9971\n",
      "Epoch 41/45\n",
      "590/590 [==============================] - 33s 56ms/step - loss: 0.0272 - accuracy: 0.9917 - val_loss: 0.0117 - val_accuracy: 0.9964\n",
      "Epoch 42/45\n",
      "590/590 [==============================] - 33s 56ms/step - loss: 0.0252 - accuracy: 0.9928 - val_loss: 0.0118 - val_accuracy: 0.9962\n",
      "Epoch 43/45\n",
      "590/590 [==============================] - 32s 55ms/step - loss: 0.0250 - accuracy: 0.9925 - val_loss: 0.0114 - val_accuracy: 0.9967\n",
      "Epoch 44/45\n",
      "590/590 [==============================] - 32s 55ms/step - loss: 0.0270 - accuracy: 0.9925 - val_loss: 0.0116 - val_accuracy: 0.9964\n",
      "Epoch 45/45\n",
      "590/590 [==============================] - 33s 56ms/step - loss: 0.0256 - accuracy: 0.9930 - val_loss: 0.0118 - val_accuracy: 0.9969\n"
     ]
    },
    {
     "data": {
      "text/plain": [
       "<tensorflow.python.keras.callbacks.History at 0x7f7c00018350>"
      ]
     },
     "execution_count": 15,
     "metadata": {},
     "output_type": "execute_result"
    }
   ],
   "source": [
    "EPOCHS = 45\n",
    "BATCH_SIZE = 64\n",
    "\n",
    "model.fit_generator(\n",
    "    datagen.flow(train_x_split, train_y_split, batch_size=BATCH_SIZE),\n",
    "    steps_per_epoch=len(train_x_split) // BATCH_SIZE,\n",
    "    epochs=EPOCHS,\n",
    "    callbacks=[lr_sched],\n",
    "    validation_data=(val_x_split, val_y_split))"
   ]
  },
  {
   "cell_type": "code",
   "execution_count": 16,
   "metadata": {
    "ExecuteTime": {
     "end_time": "2019-11-27T22:46:13.767968Z",
     "start_time": "2019-11-27T22:46:09.364758Z"
    }
   },
   "outputs": [],
   "source": [
    "model.save_weights('./model.ckpt')\n",
    "\n",
    "predictions = pd.Series(np.argmax(model.predict(test_x), axis=1), name='Label')\n",
    "image_id = pd.Series(np.arange(1, len(test_x) + 1), name='ImageId')\n",
    "\n",
    "submit = pd.concat([image_id, predictions], axis=1)\n",
    "submit.to_csv('digit_pred.csv', index=False)"
   ]
  },
  {
   "cell_type": "markdown",
   "metadata": {},
   "source": [
    "## Ensemble method"
   ]
  },
  {
   "cell_type": "markdown",
   "metadata": {},
   "source": [
    "As shown [here](https://www.kaggle.com/cdeotte/25-million-images-0-99757-mnist), ensembling multiple models can get a higher accuracy due to the random nature of each round of model training."
   ]
  },
  {
   "cell_type": "code",
   "execution_count": 18,
   "metadata": {
    "ExecuteTime": {
     "end_time": "2019-11-28T03:29:53.198941Z",
     "start_time": "2019-11-27T23:27:54.498715Z"
    }
   },
   "outputs": [
    {
     "name": "stdout",
     "output_type": "stream",
     "text": [
      "Model 0 - Train acc: 0.9925317764282227, Validation acc: 0.996666669845581\n",
      "Model 1 - Train acc: 0.9930040240287781, Validation acc: 0.9961904883384705\n",
      "Model 2 - Train acc: 0.992792010307312, Validation acc: 0.994523823261261\n",
      "Model 3 - Train acc: 0.9919970035552979, Validation acc: 0.9957143068313599\n",
      "Model 4 - Train acc: 0.9921030402183533, Validation acc: 0.9959523677825928\n",
      "Model 5 - Train acc: 0.9930570125579834, Validation acc: 0.9947618842124939\n",
      "Model 6 - Train acc: 0.9933750033378601, Validation acc: 0.9959523677825928\n",
      "Model 7 - Train acc: 0.9921825528144836, Validation acc: 0.9950000047683716\n",
      "Model 8 - Train acc: 0.9927125573158264, Validation acc: 0.9954761862754822\n",
      "Model 9 - Train acc: 0.9935911297798157, Validation acc: 0.9952380657196045\n"
     ]
    }
   ],
   "source": [
    "ENSEMBLE_COUNT = 10\n",
    "\n",
    "models = []\n",
    "models.append(model) # use the original model as well\n",
    "\n",
    "for i in range(ENSEMBLE_COUNT):\n",
    "    train_x_split, val_x_split, train_y_split, val_y_split = model_selection.train_test_split(train_x, train_y, test_size = 0.1)\n",
    "    \n",
    "    model = create_model()\n",
    "    stat = model.fit_generator(\n",
    "        datagen.flow(train_x_split, train_y_split, batch_size=BATCH_SIZE),\n",
    "        steps_per_epoch=len(train_x_split) // BATCH_SIZE,\n",
    "        epochs=EPOCHS,\n",
    "        callbacks=[lr_sched],\n",
    "        validation_data=(val_x_split, val_y_split))\n",
    "    \n",
    "    model.save_weights(f\"./model-{i}.ckpt\")\n",
    "    \n",
    "    print(f\"Model {i} Final - Train acc: {stat.history['accuracy'][-1]}, Validation acc: {stat.history['val_accuracy'][-1]}\")\n",
    "    \n",
    "    models.append(model)"
   ]
  },
  {
   "cell_type": "code",
   "execution_count": 19,
   "metadata": {
    "ExecuteTime": {
     "end_time": "2019-11-28T03:30:38.650485Z",
     "start_time": "2019-11-28T03:30:11.874043Z"
    }
   },
   "outputs": [],
   "source": [
    "predictions = np.zeros((len(test_x), 10))\n",
    "\n",
    "for m in models:\n",
    "    predictions += m.predict(test_x)\n",
    "    \n",
    "predictions = pd.Series(np.argmax(predictions, axis=1), name='Label')\n",
    "image_id = pd.Series(np.arange(1, len(test_x) + 1), name='ImageId')\n",
    "\n",
    "submit = pd.concat([image_id, predictions], axis=1)\n",
    "submit.to_csv('digit_pred_ensemble.csv', index=False)"
   ]
  },
  {
   "cell_type": "markdown",
   "metadata": {},
   "source": [
    "## Compare"
   ]
  },
  {
   "cell_type": "code",
   "execution_count": 20,
   "metadata": {
    "ExecuteTime": {
     "end_time": "2019-11-28T03:30:42.223106Z",
     "start_time": "2019-11-28T03:30:42.183863Z"
    }
   },
   "outputs": [],
   "source": [
    "single_result = pd.read_csv('./digit_pred.csv')\n",
    "ensemble_result = pd.read_csv('./digit_pred_ensemble.csv')\n",
    "\n",
    "diff = pd.merge(single_result, ensemble_result, how='outer', on='ImageId')\n",
    "diff = diff[diff['Label_x'] != diff['Label_y']]"
   ]
  },
  {
   "cell_type": "code",
   "execution_count": 46,
   "metadata": {
    "ExecuteTime": {
     "end_time": "2019-11-28T03:50:24.371325Z",
     "start_time": "2019-11-28T03:50:23.138014Z"
    }
   },
   "outputs": [
    {
     "data": {
      "image/png": "[encoded data removed]",
      "text/plain": [
       "<Figure size 1600x1200 with 53 Axes>"
      ]
     },
     "metadata": {
      "needs_background": "dark"
     },
     "output_type": "display_data"
    }
   ],
   "source": [
    "import math\n",
    "\n",
    "plt.figure(figsize=(20,15), dpi=80)\n",
    "for i in range(len(diff)):\n",
    "    plt.subplot(math.ceil(len(diff) / 10), 10, i + 1)\n",
    "    plt.imshow(test_x[diff.iloc[i]['ImageId'] - 1].squeeze())\n",
    "    plt.title(f\"x: {diff.iloc[i]['Label_x']} y: {diff.iloc[i]['Label_y']}\", y=0.9)\n",
    "    plt.axis('off')"
   ]
  },
  {
   "cell_type": "code",
   "execution_count": null,
   "metadata": {},
   "outputs": [],
   "source": []
  }
 ],
 "metadata": {
  "kernelspec": {
   "display_name": "Python 3",
   "language": "python",
   "name": "python3"
  },
  "language_info": {
   "codemirror_mode": {
    "name": "ipython",
    "version": 3
   },
   "file_extension": ".py",
   "mimetype": "text/x-python",
   "name": "python",
   "nbconvert_exporter": "python",
   "pygments_lexer": "ipython3",
   "version": "3.7.4"
  },
  "toc": {
   "base_numbering": 1,
   "nav_menu": {},
   "number_sections": true,
   "sideBar": true,
   "skip_h1_title": false,
   "title_cell": "Table of Contents",
   "title_sidebar": "Contents",
   "toc_cell": false,
   "toc_position": {},
   "toc_section_display": true,
   "toc_window_display": false
  },
  "varInspector": {
   "cols": {
    "lenName": 16,
    "lenType": 16,
    "lenVar": 40
   },
   "kernels_config": {
    "python": {
     "delete_cmd_postfix": "",
     "delete_cmd_prefix": "del ",
     "library": "var_list.py",
     "varRefreshCmd": "print(var_dic_list())"
    },
    "r": {
     "delete_cmd_postfix": ") ",
     "delete_cmd_prefix": "rm(",
     "library": "var_list.r",
     "varRefreshCmd": "cat(var_dic_list()) "
    }
   },
   "types_to_exclude": [
    "module",
    "function",
    "builtin_function_or_method",
    "instance",
    "_Feature"
   ],
   "window_display": false
  }
 },
 "nbformat": 4,
 "nbformat_minor": 2
}
