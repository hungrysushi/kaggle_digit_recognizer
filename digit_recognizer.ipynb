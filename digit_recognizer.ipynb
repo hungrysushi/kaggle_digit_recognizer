{
 "cells": [
  {
   "cell_type": "code",
   "execution_count": 1,
   "metadata": {
    "ExecuteTime": {
     "end_time": "2019-11-27T09:07:15.207386Z",
     "start_time": "2019-11-27T09:07:14.704677Z"
    }
   },
   "outputs": [],
   "source": [
    "# import jtplot submodule from jupyterthemes\n",
    "from jupyterthemes import jtplot\n",
    "\n",
    "# currently installed theme will be used to\n",
    "# set plot style if no arguments provided\n",
    "jtplot.style()\n",
    "\n",
    "%load_ext autoreload\n",
    "%autoreload 2\n",
    "\n",
    "%matplotlib inline"
   ]
  },
  {
   "cell_type": "code",
   "execution_count": 2,
   "metadata": {
    "ExecuteTime": {
     "end_time": "2019-11-27T09:07:16.330328Z",
     "start_time": "2019-11-27T09:07:15.208700Z"
    }
   },
   "outputs": [],
   "source": [
    "import matplotlib as mpl\n",
    "import matplotlib.pyplot as plt\n",
    "import numpy as np\n",
    "import pandas as pd\n",
    "from sklearn import model_selection\n",
    "\n",
    "import tensorflow as tf\n",
    "from tensorflow.keras import Input, Model\n",
    "from tensorflow.keras.layers import Conv2D, BatchNormalization, Dense, Dropout, Flatten \n",
    "from tensorflow.keras.preprocessing.image import ImageDataGenerator\n",
    "\n",
    "gpus = tf.config.experimental.list_physical_devices('GPU')\n",
    "if gpus:\n",
    "  # Currently, memory growth needs to be the same across GPUs\n",
    "  try:\n",
    "    for gpu in gpus:\n",
    "      tf.config.experimental.set_memory_growth(gpu, True)\n",
    "  except RuntimeError as e:\n",
    "    print(e)"
   ]
  },
  {
   "cell_type": "markdown",
   "metadata": {},
   "source": [
    "# Load Data"
   ]
  },
  {
   "cell_type": "code",
   "execution_count": 3,
   "metadata": {
    "ExecuteTime": {
     "end_time": "2019-11-27T09:07:19.210643Z",
     "start_time": "2019-11-27T09:07:16.331723Z"
    }
   },
   "outputs": [],
   "source": [
    "train_data = pd.read_csv('./train.csv')\n",
    "test_data = pd.read_csv('./test.csv')"
   ]
  },
  {
   "cell_type": "code",
   "execution_count": 4,
   "metadata": {
    "ExecuteTime": {
     "end_time": "2019-11-27T09:07:19.245777Z",
     "start_time": "2019-11-27T09:07:19.211878Z"
    }
   },
   "outputs": [
    {
     "data": {
      "text/html": [
       "<div>\n",
       "<style scoped>\n",
       "    .dataframe tbody tr th:only-of-type {\n",
       "        vertical-align: middle;\n",
       "    }\n",
       "\n",
       "    .dataframe tbody tr th {\n",
       "        vertical-align: top;\n",
       "    }\n",
       "\n",
       "    .dataframe thead th {\n",
       "        text-align: right;\n",
       "    }\n",
       "</style>\n",
       "<table border=\"1\" class=\"dataframe\">\n",
       "  <thead>\n",
       "    <tr style=\"text-align: right;\">\n",
       "      <th></th>\n",
       "      <th>label</th>\n",
       "      <th>pixel0</th>\n",
       "      <th>pixel1</th>\n",
       "      <th>pixel2</th>\n",
       "      <th>pixel3</th>\n",
       "      <th>pixel4</th>\n",
       "      <th>pixel5</th>\n",
       "      <th>pixel6</th>\n",
       "      <th>pixel7</th>\n",
       "      <th>pixel8</th>\n",
       "      <th>...</th>\n",
       "      <th>pixel774</th>\n",
       "      <th>pixel775</th>\n",
       "      <th>pixel776</th>\n",
       "      <th>pixel777</th>\n",
       "      <th>pixel778</th>\n",
       "      <th>pixel779</th>\n",
       "      <th>pixel780</th>\n",
       "      <th>pixel781</th>\n",
       "      <th>pixel782</th>\n",
       "      <th>pixel783</th>\n",
       "    </tr>\n",
       "  </thead>\n",
       "  <tbody>\n",
       "    <tr>\n",
       "      <td>0</td>\n",
       "      <td>1</td>\n",
       "      <td>0</td>\n",
       "      <td>0</td>\n",
       "      <td>0</td>\n",
       "      <td>0</td>\n",
       "      <td>0</td>\n",
       "      <td>0</td>\n",
       "      <td>0</td>\n",
       "      <td>0</td>\n",
       "      <td>0</td>\n",
       "      <td>...</td>\n",
       "      <td>0</td>\n",
       "      <td>0</td>\n",
       "      <td>0</td>\n",
       "      <td>0</td>\n",
       "      <td>0</td>\n",
       "      <td>0</td>\n",
       "      <td>0</td>\n",
       "      <td>0</td>\n",
       "      <td>0</td>\n",
       "      <td>0</td>\n",
       "    </tr>\n",
       "    <tr>\n",
       "      <td>1</td>\n",
       "      <td>0</td>\n",
       "      <td>0</td>\n",
       "      <td>0</td>\n",
       "      <td>0</td>\n",
       "      <td>0</td>\n",
       "      <td>0</td>\n",
       "      <td>0</td>\n",
       "      <td>0</td>\n",
       "      <td>0</td>\n",
       "      <td>0</td>\n",
       "      <td>...</td>\n",
       "      <td>0</td>\n",
       "      <td>0</td>\n",
       "      <td>0</td>\n",
       "      <td>0</td>\n",
       "      <td>0</td>\n",
       "      <td>0</td>\n",
       "      <td>0</td>\n",
       "      <td>0</td>\n",
       "      <td>0</td>\n",
       "      <td>0</td>\n",
       "    </tr>\n",
       "    <tr>\n",
       "      <td>2</td>\n",
       "      <td>1</td>\n",
       "      <td>0</td>\n",
       "      <td>0</td>\n",
       "      <td>0</td>\n",
       "      <td>0</td>\n",
       "      <td>0</td>\n",
       "      <td>0</td>\n",
       "      <td>0</td>\n",
       "      <td>0</td>\n",
       "      <td>0</td>\n",
       "      <td>...</td>\n",
       "      <td>0</td>\n",
       "      <td>0</td>\n",
       "      <td>0</td>\n",
       "      <td>0</td>\n",
       "      <td>0</td>\n",
       "      <td>0</td>\n",
       "      <td>0</td>\n",
       "      <td>0</td>\n",
       "      <td>0</td>\n",
       "      <td>0</td>\n",
       "    </tr>\n",
       "    <tr>\n",
       "      <td>3</td>\n",
       "      <td>4</td>\n",
       "      <td>0</td>\n",
       "      <td>0</td>\n",
       "      <td>0</td>\n",
       "      <td>0</td>\n",
       "      <td>0</td>\n",
       "      <td>0</td>\n",
       "      <td>0</td>\n",
       "      <td>0</td>\n",
       "      <td>0</td>\n",
       "      <td>...</td>\n",
       "      <td>0</td>\n",
       "      <td>0</td>\n",
       "      <td>0</td>\n",
       "      <td>0</td>\n",
       "      <td>0</td>\n",
       "      <td>0</td>\n",
       "      <td>0</td>\n",
       "      <td>0</td>\n",
       "      <td>0</td>\n",
       "      <td>0</td>\n",
       "    </tr>\n",
       "    <tr>\n",
       "      <td>4</td>\n",
       "      <td>0</td>\n",
       "      <td>0</td>\n",
       "      <td>0</td>\n",
       "      <td>0</td>\n",
       "      <td>0</td>\n",
       "      <td>0</td>\n",
       "      <td>0</td>\n",
       "      <td>0</td>\n",
       "      <td>0</td>\n",
       "      <td>0</td>\n",
       "      <td>...</td>\n",
       "      <td>0</td>\n",
       "      <td>0</td>\n",
       "      <td>0</td>\n",
       "      <td>0</td>\n",
       "      <td>0</td>\n",
       "      <td>0</td>\n",
       "      <td>0</td>\n",
       "      <td>0</td>\n",
       "      <td>0</td>\n",
       "      <td>0</td>\n",
       "    </tr>\n",
       "  </tbody>\n",
       "</table>\n",
       "<p>5 rows × 785 columns</p>\n",
       "</div>"
      ],
      "text/plain": [
       "   label  pixel0  pixel1  pixel2  pixel3  pixel4  pixel5  pixel6  pixel7  \\\n",
       "0      1       0       0       0       0       0       0       0       0   \n",
       "1      0       0       0       0       0       0       0       0       0   \n",
       "2      1       0       0       0       0       0       0       0       0   \n",
       "3      4       0       0       0       0       0       0       0       0   \n",
       "4      0       0       0       0       0       0       0       0       0   \n",
       "\n",
       "   pixel8  ...  pixel774  pixel775  pixel776  pixel777  pixel778  pixel779  \\\n",
       "0       0  ...         0         0         0         0         0         0   \n",
       "1       0  ...         0         0         0         0         0         0   \n",
       "2       0  ...         0         0         0         0         0         0   \n",
       "3       0  ...         0         0         0         0         0         0   \n",
       "4       0  ...         0         0         0         0         0         0   \n",
       "\n",
       "   pixel780  pixel781  pixel782  pixel783  \n",
       "0         0         0         0         0  \n",
       "1         0         0         0         0  \n",
       "2         0         0         0         0  \n",
       "3         0         0         0         0  \n",
       "4         0         0         0         0  \n",
       "\n",
       "[5 rows x 785 columns]"
      ]
     },
     "execution_count": 4,
     "metadata": {},
     "output_type": "execute_result"
    }
   ],
   "source": [
    "train_data.head()"
   ]
  },
  {
   "cell_type": "code",
   "execution_count": 5,
   "metadata": {
    "ExecuteTime": {
     "end_time": "2019-11-27T09:07:19.371218Z",
     "start_time": "2019-11-27T09:07:19.246852Z"
    }
   },
   "outputs": [
    {
     "data": {
      "text/html": [
       "<div>\n",
       "<style scoped>\n",
       "    .dataframe tbody tr th:only-of-type {\n",
       "        vertical-align: middle;\n",
       "    }\n",
       "\n",
       "    .dataframe tbody tr th {\n",
       "        vertical-align: top;\n",
       "    }\n",
       "\n",
       "    .dataframe thead th {\n",
       "        text-align: right;\n",
       "    }\n",
       "</style>\n",
       "<table border=\"1\" class=\"dataframe\">\n",
       "  <thead>\n",
       "    <tr style=\"text-align: right;\">\n",
       "      <th></th>\n",
       "      <th>pixel0</th>\n",
       "      <th>pixel1</th>\n",
       "      <th>pixel2</th>\n",
       "      <th>pixel3</th>\n",
       "      <th>pixel4</th>\n",
       "      <th>pixel5</th>\n",
       "      <th>pixel6</th>\n",
       "      <th>pixel7</th>\n",
       "      <th>pixel8</th>\n",
       "      <th>pixel9</th>\n",
       "      <th>...</th>\n",
       "      <th>pixel774</th>\n",
       "      <th>pixel775</th>\n",
       "      <th>pixel776</th>\n",
       "      <th>pixel777</th>\n",
       "      <th>pixel778</th>\n",
       "      <th>pixel779</th>\n",
       "      <th>pixel780</th>\n",
       "      <th>pixel781</th>\n",
       "      <th>pixel782</th>\n",
       "      <th>pixel783</th>\n",
       "    </tr>\n",
       "  </thead>\n",
       "  <tbody>\n",
       "    <tr>\n",
       "      <td>0</td>\n",
       "      <td>0</td>\n",
       "      <td>0</td>\n",
       "      <td>0</td>\n",
       "      <td>0</td>\n",
       "      <td>0</td>\n",
       "      <td>0</td>\n",
       "      <td>0</td>\n",
       "      <td>0</td>\n",
       "      <td>0</td>\n",
       "      <td>0</td>\n",
       "      <td>...</td>\n",
       "      <td>0</td>\n",
       "      <td>0</td>\n",
       "      <td>0</td>\n",
       "      <td>0</td>\n",
       "      <td>0</td>\n",
       "      <td>0</td>\n",
       "      <td>0</td>\n",
       "      <td>0</td>\n",
       "      <td>0</td>\n",
       "      <td>0</td>\n",
       "    </tr>\n",
       "    <tr>\n",
       "      <td>1</td>\n",
       "      <td>0</td>\n",
       "      <td>0</td>\n",
       "      <td>0</td>\n",
       "      <td>0</td>\n",
       "      <td>0</td>\n",
       "      <td>0</td>\n",
       "      <td>0</td>\n",
       "      <td>0</td>\n",
       "      <td>0</td>\n",
       "      <td>0</td>\n",
       "      <td>...</td>\n",
       "      <td>0</td>\n",
       "      <td>0</td>\n",
       "      <td>0</td>\n",
       "      <td>0</td>\n",
       "      <td>0</td>\n",
       "      <td>0</td>\n",
       "      <td>0</td>\n",
       "      <td>0</td>\n",
       "      <td>0</td>\n",
       "      <td>0</td>\n",
       "    </tr>\n",
       "    <tr>\n",
       "      <td>2</td>\n",
       "      <td>0</td>\n",
       "      <td>0</td>\n",
       "      <td>0</td>\n",
       "      <td>0</td>\n",
       "      <td>0</td>\n",
       "      <td>0</td>\n",
       "      <td>0</td>\n",
       "      <td>0</td>\n",
       "      <td>0</td>\n",
       "      <td>0</td>\n",
       "      <td>...</td>\n",
       "      <td>0</td>\n",
       "      <td>0</td>\n",
       "      <td>0</td>\n",
       "      <td>0</td>\n",
       "      <td>0</td>\n",
       "      <td>0</td>\n",
       "      <td>0</td>\n",
       "      <td>0</td>\n",
       "      <td>0</td>\n",
       "      <td>0</td>\n",
       "    </tr>\n",
       "    <tr>\n",
       "      <td>3</td>\n",
       "      <td>0</td>\n",
       "      <td>0</td>\n",
       "      <td>0</td>\n",
       "      <td>0</td>\n",
       "      <td>0</td>\n",
       "      <td>0</td>\n",
       "      <td>0</td>\n",
       "      <td>0</td>\n",
       "      <td>0</td>\n",
       "      <td>0</td>\n",
       "      <td>...</td>\n",
       "      <td>0</td>\n",
       "      <td>0</td>\n",
       "      <td>0</td>\n",
       "      <td>0</td>\n",
       "      <td>0</td>\n",
       "      <td>0</td>\n",
       "      <td>0</td>\n",
       "      <td>0</td>\n",
       "      <td>0</td>\n",
       "      <td>0</td>\n",
       "    </tr>\n",
       "    <tr>\n",
       "      <td>4</td>\n",
       "      <td>0</td>\n",
       "      <td>0</td>\n",
       "      <td>0</td>\n",
       "      <td>0</td>\n",
       "      <td>0</td>\n",
       "      <td>0</td>\n",
       "      <td>0</td>\n",
       "      <td>0</td>\n",
       "      <td>0</td>\n",
       "      <td>0</td>\n",
       "      <td>...</td>\n",
       "      <td>0</td>\n",
       "      <td>0</td>\n",
       "      <td>0</td>\n",
       "      <td>0</td>\n",
       "      <td>0</td>\n",
       "      <td>0</td>\n",
       "      <td>0</td>\n",
       "      <td>0</td>\n",
       "      <td>0</td>\n",
       "      <td>0</td>\n",
       "    </tr>\n",
       "  </tbody>\n",
       "</table>\n",
       "<p>5 rows × 784 columns</p>\n",
       "</div>"
      ],
      "text/plain": [
       "   pixel0  pixel1  pixel2  pixel3  pixel4  pixel5  pixel6  pixel7  pixel8  \\\n",
       "0       0       0       0       0       0       0       0       0       0   \n",
       "1       0       0       0       0       0       0       0       0       0   \n",
       "2       0       0       0       0       0       0       0       0       0   \n",
       "3       0       0       0       0       0       0       0       0       0   \n",
       "4       0       0       0       0       0       0       0       0       0   \n",
       "\n",
       "   pixel9  ...  pixel774  pixel775  pixel776  pixel777  pixel778  pixel779  \\\n",
       "0       0  ...         0         0         0         0         0         0   \n",
       "1       0  ...         0         0         0         0         0         0   \n",
       "2       0  ...         0         0         0         0         0         0   \n",
       "3       0  ...         0         0         0         0         0         0   \n",
       "4       0  ...         0         0         0         0         0         0   \n",
       "\n",
       "   pixel780  pixel781  pixel782  pixel783  \n",
       "0         0         0         0         0  \n",
       "1         0         0         0         0  \n",
       "2         0         0         0         0  \n",
       "3         0         0         0         0  \n",
       "4         0         0         0         0  \n",
       "\n",
       "[5 rows x 784 columns]"
      ]
     },
     "execution_count": 5,
     "metadata": {},
     "output_type": "execute_result"
    }
   ],
   "source": [
    "test_data.head()"
   ]
  },
  {
   "cell_type": "markdown",
   "metadata": {},
   "source": [
    "Split the training data into responses and predictors."
   ]
  },
  {
   "cell_type": "code",
   "execution_count": 6,
   "metadata": {
    "ExecuteTime": {
     "end_time": "2019-11-27T09:07:19.503752Z",
     "start_time": "2019-11-27T09:07:19.373534Z"
    }
   },
   "outputs": [],
   "source": [
    "train_y = np.array(train_data.iloc[:, 0], dtype='uint8')\n",
    "train_x = train_data.drop(axis=1, labels='label')"
   ]
  },
  {
   "cell_type": "markdown",
   "metadata": {},
   "source": [
    "Regularize the pixel values."
   ]
  },
  {
   "cell_type": "code",
   "execution_count": 7,
   "metadata": {
    "ExecuteTime": {
     "end_time": "2019-11-27T09:07:20.222110Z",
     "start_time": "2019-11-27T09:07:19.504878Z"
    }
   },
   "outputs": [],
   "source": [
    "train_x  = train_x / 255\n",
    "test_x = test_data / 255"
   ]
  },
  {
   "cell_type": "markdown",
   "metadata": {},
   "source": [
    "Reshape the predictors into 28x28 arrays to feed into the model. Since there is only one monochrome channel, the shape will be 28x28x1."
   ]
  },
  {
   "cell_type": "code",
   "execution_count": 8,
   "metadata": {
    "ExecuteTime": {
     "end_time": "2019-11-27T09:07:20.246387Z",
     "start_time": "2019-11-27T09:07:20.223925Z"
    }
   },
   "outputs": [],
   "source": [
    "train_x = train_x.values.reshape(-1, 28, 28, 1)\n",
    "test_x = test_x.values.reshape(-1, 28, 28, 1)"
   ]
  },
  {
   "cell_type": "markdown",
   "metadata": {},
   "source": [
    "Plot one of the inputs to see how it looks:"
   ]
  },
  {
   "cell_type": "code",
   "execution_count": 9,
   "metadata": {
    "ExecuteTime": {
     "end_time": "2019-11-27T09:07:20.408879Z",
     "start_time": "2019-11-27T09:07:20.247728Z"
    }
   },
   "outputs": [
    {
     "data": {
      "text/plain": [
       "<matplotlib.image.AxesImage at 0x7f924373eed0>"
      ]
     },
     "execution_count": 9,
     "metadata": {},
     "output_type": "execute_result"
    },
    {
     "data": {
      "image/png": "[encoded data removed]",
      "text/plain": [
       "<Figure size 432x288 with 1 Axes>"
      ]
     },
     "metadata": {
      "needs_background": "dark"
     },
     "output_type": "display_data"
    }
   ],
   "source": [
    "plt.imshow(train_x[10].squeeze())"
   ]
  },
  {
   "cell_type": "markdown",
   "metadata": {},
   "source": [
    "The data can be augmented at runtime using the Keras ImageDataGenerator: https://www.tensorflow.org/api_docs/python/tf/keras/preprocessing/image/ImageDataGenerator"
   ]
  },
  {
   "cell_type": "code",
   "execution_count": 10,
   "metadata": {
    "ExecuteTime": {
     "end_time": "2019-11-27T09:07:20.433215Z",
     "start_time": "2019-11-27T09:07:20.410079Z"
    }
   },
   "outputs": [],
   "source": [
    "datagen = ImageDataGenerator(\n",
    "    rotation_range = 15,\n",
    "    width_shift_range = 0.15,\n",
    "    height_shift_range = 0.15,\n",
    "    zoom_range=0.15)"
   ]
  },
  {
   "cell_type": "markdown",
   "metadata": {},
   "source": [
    "# Model"
   ]
  },
  {
   "cell_type": "markdown",
   "metadata": {
    "ExecuteTime": {
     "end_time": "2019-11-27T02:47:30.356906Z",
     "start_time": "2019-11-27T02:47:30.348374Z"
    }
   },
   "source": [
    "Build up a model using the TF Keras functional API."
   ]
  },
  {
   "cell_type": "code",
   "execution_count": 11,
   "metadata": {
    "ExecuteTime": {
     "end_time": "2019-11-27T09:07:21.347136Z",
     "start_time": "2019-11-27T09:07:20.434350Z"
    }
   },
   "outputs": [],
   "source": [
    "inputs = Input(shape=(28, 28, 1))\n",
    "\n",
    "x = Conv2D(32, kernel_size=3, activation='relu')(inputs)\n",
    "x = BatchNormalization()(x)\n",
    "x = Conv2D(32, kernel_size=3, activation='relu')(inputs)\n",
    "x = BatchNormalization()(x)\n",
    "x = Conv2D(32, kernel_size=5, strides=2, padding='same', activation='relu')(x)\n",
    "x = BatchNormalization()(x)\n",
    "x = Dropout(0.4)(x)\n",
    "\n",
    "x = Conv2D(64, kernel_size=3, activation='relu')(x)\n",
    "x = BatchNormalization()(x)\n",
    "x = Conv2D(64, kernel_size=3, activation='relu')(x)\n",
    "x = BatchNormalization()(x)\n",
    "x = Conv2D(64, kernel_size=5, strides=2, padding='same', activation='relu')(x)\n",
    "x = BatchNormalization()(x)\n",
    "x = Dropout(0.4)(x)\n",
    "\n",
    "x = Conv2D(128, kernel_size=3, activation='relu')(x)\n",
    "x = BatchNormalization()(x)\n",
    "x = Conv2D(128, kernel_size=5, strides=2, padding='same', activation='relu')(x)\n",
    "x = BatchNormalization()(x)\n",
    "x = Dropout(0.4)(x)\n",
    "\n",
    "x = Conv2D(256, kernel_size=2, activation='relu', )(x)\n",
    "x = BatchNormalization()(x)\n",
    "x = Dropout(0.4)(x)\n",
    "\n",
    "# x = Conv2D(128, kernel_size=2, activation='relu')(x)\n",
    "# x = BatchNormalization()(x)\n",
    "# x = Dropout(0.4)(x)\n",
    "\n",
    "x = Flatten()(x)\n",
    "x = Dropout(0.4)(x)\n",
    "x = Dense(256, activation='relu')(x)\n",
    "x = Dense(10, activation='softmax')(x)\n",
    "\n",
    "model = Model(inputs=inputs, outputs=x)\n",
    "model.compile(optimizer=tf.keras.optimizers.Adam(),\n",
    "              loss=tf.keras.losses.SparseCategoricalCrossentropy(),\n",
    "              metrics=['accuracy'])"
   ]
  },
  {
   "cell_type": "markdown",
   "metadata": {},
   "source": [
    "# Train"
   ]
  },
  {
   "cell_type": "code",
   "execution_count": 12,
   "metadata": {
    "ExecuteTime": {
     "end_time": "2019-11-27T09:07:21.677682Z",
     "start_time": "2019-11-27T09:07:21.348425Z"
    }
   },
   "outputs": [],
   "source": [
    "train_x_split, val_x_split, train_y_split, val_y_split = model_selection.train_test_split(train_x, train_y, test_size = 0.1)"
   ]
  },
  {
   "cell_type": "code",
   "execution_count": 13,
   "metadata": {
    "ExecuteTime": {
     "end_time": "2019-11-27T09:31:55.725172Z",
     "start_time": "2019-11-27T09:07:21.678636Z"
    }
   },
   "outputs": [
    {
     "name": "stdout",
     "output_type": "stream",
     "text": [
      "Epoch 1/45\n",
      "590/590 [==============================] - 35s 58ms/step - loss: 0.8934 - accuracy: 0.7122 - val_loss: 0.3209 - val_accuracy: 0.9062\n",
      "Epoch 2/45\n",
      "590/590 [==============================] - 33s 55ms/step - loss: 0.2475 - accuracy: 0.9279 - val_loss: 0.0549 - val_accuracy: 0.9817\n",
      "Epoch 3/45\n",
      "590/590 [==============================] - 32s 55ms/step - loss: 0.1832 - accuracy: 0.9459 - val_loss: 0.0625 - val_accuracy: 0.9848\n",
      "Epoch 4/45\n",
      "590/590 [==============================] - 33s 56ms/step - loss: 0.1456 - accuracy: 0.9587 - val_loss: 0.0576 - val_accuracy: 0.9855\n",
      "Epoch 5/45\n",
      "590/590 [==============================] - 33s 56ms/step - loss: 0.1264 - accuracy: 0.9635 - val_loss: 0.0396 - val_accuracy: 0.9895\n",
      "Epoch 6/45\n",
      "590/590 [==============================] - 33s 56ms/step - loss: 0.1172 - accuracy: 0.9670 - val_loss: 0.0511 - val_accuracy: 0.9862\n",
      "Epoch 7/45\n",
      "590/590 [==============================] - 33s 55ms/step - loss: 0.1095 - accuracy: 0.9701 - val_loss: 0.0416 - val_accuracy: 0.9871\n",
      "Epoch 8/45\n",
      "590/590 [==============================] - 33s 55ms/step - loss: 0.0972 - accuracy: 0.9735 - val_loss: 0.0302 - val_accuracy: 0.9900\n",
      "Epoch 9/45\n",
      "590/590 [==============================] - 33s 56ms/step - loss: 0.0952 - accuracy: 0.9736 - val_loss: 0.0379 - val_accuracy: 0.9890\n",
      "Epoch 10/45\n",
      "590/590 [==============================] - 33s 56ms/step - loss: 0.0871 - accuracy: 0.9767 - val_loss: 0.0313 - val_accuracy: 0.9907\n",
      "Epoch 11/45\n",
      "590/590 [==============================] - 33s 55ms/step - loss: 0.0847 - accuracy: 0.9777 - val_loss: 0.0281 - val_accuracy: 0.9921\n",
      "Epoch 12/45\n",
      "590/590 [==============================] - 33s 56ms/step - loss: 0.0785 - accuracy: 0.9786 - val_loss: 0.0277 - val_accuracy: 0.9921\n",
      "Epoch 13/45\n",
      "590/590 [==============================] - 33s 56ms/step - loss: 0.0781 - accuracy: 0.9791 - val_loss: 0.0197 - val_accuracy: 0.9936\n",
      "Epoch 14/45\n",
      "590/590 [==============================] - 33s 56ms/step - loss: 0.0729 - accuracy: 0.9804 - val_loss: 0.0294 - val_accuracy: 0.9912\n",
      "Epoch 15/45\n",
      "590/590 [==============================] - 33s 56ms/step - loss: 0.0668 - accuracy: 0.9824 - val_loss: 0.0281 - val_accuracy: 0.9910\n",
      "Epoch 16/45\n",
      "590/590 [==============================] - 33s 56ms/step - loss: 0.0688 - accuracy: 0.9819 - val_loss: 0.0268 - val_accuracy: 0.9919\n",
      "Epoch 17/45\n",
      "590/590 [==============================] - 33s 56ms/step - loss: 0.0671 - accuracy: 0.9820 - val_loss: 0.0323 - val_accuracy: 0.9902\n",
      "Epoch 18/45\n",
      "590/590 [==============================] - 33s 56ms/step - loss: 0.0634 - accuracy: 0.9831 - val_loss: 0.0269 - val_accuracy: 0.9926\n",
      "Epoch 19/45\n",
      "590/590 [==============================] - 33s 56ms/step - loss: 0.0645 - accuracy: 0.9825 - val_loss: 0.0226 - val_accuracy: 0.9926\n",
      "Epoch 20/45\n",
      "590/590 [==============================] - 33s 56ms/step - loss: 0.0575 - accuracy: 0.9851 - val_loss: 0.0206 - val_accuracy: 0.9940\n",
      "Epoch 21/45\n",
      "590/590 [==============================] - 33s 56ms/step - loss: 0.0565 - accuracy: 0.9847 - val_loss: 0.0187 - val_accuracy: 0.9933\n",
      "Epoch 22/45\n",
      "590/590 [==============================] - 33s 56ms/step - loss: 0.0554 - accuracy: 0.9846 - val_loss: 0.0260 - val_accuracy: 0.9933\n",
      "Epoch 23/45\n",
      "590/590 [==============================] - 33s 56ms/step - loss: 0.0563 - accuracy: 0.9853 - val_loss: 0.0190 - val_accuracy: 0.9929\n",
      "Epoch 24/45\n",
      "590/590 [==============================] - 33s 55ms/step - loss: 0.0540 - accuracy: 0.9853 - val_loss: 0.0189 - val_accuracy: 0.9940\n",
      "Epoch 25/45\n",
      "590/590 [==============================] - 32s 55ms/step - loss: 0.0544 - accuracy: 0.9856 - val_loss: 0.0137 - val_accuracy: 0.9960\n",
      "Epoch 26/45\n",
      "590/590 [==============================] - 32s 55ms/step - loss: 0.0536 - accuracy: 0.9854 - val_loss: 0.0182 - val_accuracy: 0.9943\n",
      "Epoch 27/45\n",
      "590/590 [==============================] - 33s 55ms/step - loss: 0.0486 - accuracy: 0.9868 - val_loss: 0.0146 - val_accuracy: 0.9950\n",
      "Epoch 28/45\n",
      "590/590 [==============================] - 33s 56ms/step - loss: 0.0493 - accuracy: 0.9872 - val_loss: 0.0096 - val_accuracy: 0.9967\n",
      "Epoch 29/45\n",
      "590/590 [==============================] - 33s 56ms/step - loss: 0.0487 - accuracy: 0.9870 - val_loss: 0.0134 - val_accuracy: 0.9960\n",
      "Epoch 30/45\n",
      "590/590 [==============================] - 33s 55ms/step - loss: 0.0460 - accuracy: 0.9875 - val_loss: 0.0135 - val_accuracy: 0.9957\n",
      "Epoch 31/45\n",
      "590/590 [==============================] - 33s 56ms/step - loss: 0.0452 - accuracy: 0.9883 - val_loss: 0.0173 - val_accuracy: 0.9938\n",
      "Epoch 32/45\n",
      "590/590 [==============================] - 33s 55ms/step - loss: 0.0465 - accuracy: 0.9878 - val_loss: 0.0182 - val_accuracy: 0.9945\n",
      "Epoch 33/45\n",
      "590/590 [==============================] - 33s 56ms/step - loss: 0.0435 - accuracy: 0.9890 - val_loss: 0.0152 - val_accuracy: 0.9948\n",
      "Epoch 34/45\n",
      "590/590 [==============================] - 32s 55ms/step - loss: 0.0437 - accuracy: 0.9880 - val_loss: 0.0115 - val_accuracy: 0.9969\n",
      "Epoch 35/45\n",
      "590/590 [==============================] - 33s 55ms/step - loss: 0.0403 - accuracy: 0.9897 - val_loss: 0.0143 - val_accuracy: 0.9962\n",
      "Epoch 36/45\n",
      "590/590 [==============================] - 33s 55ms/step - loss: 0.0446 - accuracy: 0.9885 - val_loss: 0.0101 - val_accuracy: 0.9971\n",
      "Epoch 37/45\n",
      "590/590 [==============================] - 33s 55ms/step - loss: 0.0415 - accuracy: 0.9887 - val_loss: 0.0106 - val_accuracy: 0.9964\n",
      "Epoch 38/45\n",
      "590/590 [==============================] - 32s 55ms/step - loss: 0.0377 - accuracy: 0.9897 - val_loss: 0.0132 - val_accuracy: 0.9962\n",
      "Epoch 39/45\n",
      "590/590 [==============================] - 33s 55ms/step - loss: 0.0388 - accuracy: 0.9897 - val_loss: 0.0101 - val_accuracy: 0.9969\n",
      "Epoch 40/45\n",
      "590/590 [==============================] - 32s 55ms/step - loss: 0.0418 - accuracy: 0.9887 - val_loss: 0.0139 - val_accuracy: 0.9948\n",
      "Epoch 41/45\n",
      "590/590 [==============================] - 33s 55ms/step - loss: 0.0378 - accuracy: 0.9903 - val_loss: 0.0081 - val_accuracy: 0.9971\n",
      "Epoch 42/45\n",
      "590/590 [==============================] - 32s 55ms/step - loss: 0.0367 - accuracy: 0.9901 - val_loss: 0.0102 - val_accuracy: 0.9957\n",
      "Epoch 43/45\n",
      "590/590 [==============================] - 33s 55ms/step - loss: 0.0371 - accuracy: 0.9901 - val_loss: 0.0117 - val_accuracy: 0.9967\n",
      "Epoch 44/45\n",
      "590/590 [==============================] - 33s 55ms/step - loss: 0.0370 - accuracy: 0.9897 - val_loss: 0.0191 - val_accuracy: 0.9936\n",
      "Epoch 45/45\n",
      "590/590 [==============================] - 33s 55ms/step - loss: 0.0352 - accuracy: 0.9903 - val_loss: 0.0129 - val_accuracy: 0.9957\n"
     ]
    },
    {
     "data": {
      "text/plain": [
       "<tensorflow.python.keras.callbacks.History at 0x7f9242a11ad0>"
      ]
     },
     "execution_count": 13,
     "metadata": {},
     "output_type": "execute_result"
    }
   ],
   "source": [
    "EPOCHS = 45\n",
    "BATCH_SIZE = 64\n",
    "\n",
    "model.fit_generator(\n",
    "    datagen.flow(train_x_split, train_y_split, batch_size=BATCH_SIZE),\n",
    "    steps_per_epoch=len(train_x_split) // BATCH_SIZE,\n",
    "    epochs=EPOCHS,\n",
    "    validation_data=(val_x_split, val_y_split))"
   ]
  },
  {
   "cell_type": "code",
   "execution_count": 14,
   "metadata": {
    "ExecuteTime": {
     "end_time": "2019-11-27T09:32:00.150745Z",
     "start_time": "2019-11-27T09:31:55.726353Z"
    }
   },
   "outputs": [],
   "source": [
    "predictions = pd.Series(np.argmax(model.predict(test_x), axis=1), name='Label')\n",
    "image_id = pd.Series(np.arange(1, len(test_x) + 1), name='ImageId')\n",
    "\n",
    "submit = pd.concat([image_id, predictions], axis=1)\n",
    "submit.to_csv('digit_pred.csv', index=False)"
   ]
  }
 ],
 "metadata": {
  "kernelspec": {
   "display_name": "Python 3",
   "language": "python",
   "name": "python3"
  },
  "language_info": {
   "codemirror_mode": {
    "name": "ipython",
    "version": 3
   },
   "file_extension": ".py",
   "mimetype": "text/x-python",
   "name": "python",
   "nbconvert_exporter": "python",
   "pygments_lexer": "ipython3",
   "version": "3.7.4"
  },
  "toc": {
   "base_numbering": 1,
   "nav_menu": {},
   "number_sections": true,
   "sideBar": true,
   "skip_h1_title": false,
   "title_cell": "Table of Contents",
   "title_sidebar": "Contents",
   "toc_cell": false,
   "toc_position": {},
   "toc_section_display": true,
   "toc_window_display": false
  },
  "varInspector": {
   "cols": {
    "lenName": 16,
    "lenType": 16,
    "lenVar": 40
   },
   "kernels_config": {
    "python": {
     "delete_cmd_postfix": "",
     "delete_cmd_prefix": "del ",
     "library": "var_list.py",
     "varRefreshCmd": "print(var_dic_list())"
    },
    "r": {
     "delete_cmd_postfix": ") ",
     "delete_cmd_prefix": "rm(",
     "library": "var_list.r",
     "varRefreshCmd": "cat(var_dic_list()) "
    }
   },
   "types_to_exclude": [
    "module",
    "function",
    "builtin_function_or_method",
    "instance",
    "_Feature"
   ],
   "window_display": false
  }
 },
 "nbformat": 4,
 "nbformat_minor": 2
}
